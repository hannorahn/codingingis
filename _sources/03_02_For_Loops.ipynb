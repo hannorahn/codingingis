{
 "cells": [
  {
   "cell_type": "markdown",
   "metadata": {},
   "source": [
    "(forloops-1)=\n",
    "# Aufgabe 9: *For Loop* Einführung\n",
    "\n",
    "## Theorie\n",
    "\n",
    "### Die Grundform\n",
    "Nirgends ist der Aspekt der Automatisierung so sichtbar wie in *for Loops*. Loops sind \"Schleifen\" wo eine Aufgabe so lange wiederholt wird, bis ein Ende erreicht worden ist. Auch For-Loops sind im Grunde genommen sehr einfach. Auf den ersten Blick sieht eine For Loop aus wie eine *Function* definition (siehe {ref}`function-basics` und {ref}`function-advanced`). Im folgenden Beispiel seht ihr ein minimales Beispiel einer *For Loop*."
   ]
  },
  {
   "cell_type": "code",
   "execution_count": null,
   "metadata": {},
   "outputs": [],
   "source": [
    "for platzhalter in [0,1,2]:\n",
    "    print(\"Iteration\",platzhalter)"
   ]
  },
  {
   "cell_type": "markdown",
   "metadata": {},
   "source": [
    "- `for` legt fest, dass eine For-Loop beginnt\n",
    "- Nach `for` kommt eine Platzhalter-Variabel, die ihr beliebig benennen könnt. Im obigen Beispiel lautet diese `platzhalter`\n",
    "- Nach dem Platzhalter kommt der Begriff `in`. Dieser Begriff kommt zwingend nach dem Platzhalter.\n",
    "- Nach `in` wird der \"Iterator\" festgelegt, also worüber der For-Loop iterieren soll (hier: über eine `List` mit den Werten `[0,1,2]`). \n",
    "- Danach kommt ein Doppelpunkt `:` der zeigt: \"Nun legen wir gleich fest was im For-Loop passieren soll\" (ähnlich wie in einer *Function*)\n",
    "- Auf einer neuen Zeile wird eingerückt festgelegt, was in der *For-Loop* passieren soll. In unserem Fall wird etwas Nonsens in die Konsole ausgespuckt\n",
    "- Achtung: `return()` gibt’s in For-Loops nicht. Ich nutze hier deshalb *print*[^print], damit in der Konsole etwas erscheint.\n",
    "\n",
    "\n",
    "[^print]: Mit `print` können wir Variabeln in die Konsole \"ausdrucken\" lassen. Innerhalb von `print` können dazu verschiedene Variablen kommagetrennt aufgeführt werden, ohne sie mit `+` verbinden zu müssen wie damals in {ref}`function-basics`."
   ]
  },
  {
   "cell_type": "markdown",
   "metadata": {},
   "source": [
    "### Der Iterator\n",
    "\n",
    "Im obigen Beispiel haben wir über eine *List* iteriert, wir haben also eine Liste als Iterator verwendet. Es gibt aber noch andere \"Dinge\", über die wir iterieren können. Angenommen wir wollen das Gleiche machen wie oben, aber nicht mit den Zahlen 0, 1 und 2, sondern von 0 bis 100 oder 100 bis 1'000. Es wäre ganz schön mühsam, alle Zahlen von 0 bis 100 manuell in einer Liste zu erfassen. Zu diesem Zweck können wir die Funktion `range` verwenden. Mit `range(3)` erstellen wir einen Iterator mit den Werten 0, 1 und 2. Mit `range(100,1001)` erhalten wir die Werte von 100 bis 1'000. Um den gleichen Loop wie oben mit `range` zu erstellen, ersetzen wir einfach `[0,1,2]` mit `range(3)`:"
   ]
  },
  {
   "cell_type": "code",
   "execution_count": 9,
   "metadata": {},
   "outputs": [
    {
     "name": "stdout",
     "output_type": "stream",
     "text": [
      "Iteration 0\n",
      "Iteration 1\n",
      "Iteration 2\n"
     ]
    }
   ],
   "source": [
    "for platzhalter in range(3):\n",
    "    print(\"Iteration\",platzhalter)"
   ]
  },
  {
   "cell_type": "markdown",
   "metadata": {},
   "source": [
    "### Der Platzhalter\n",
    "\n",
    "Die Platzhaltervariabel liegt immer zwischen `for` und `in`, den Namen dieser Variabel könnt ihr frei wählen. Ich habe sie im obigen Beispiel `platzhalter` genannt. Speziell an dieser Variabel ist, dass sie während der Dauer des *Loops* ihren Wert verändert. Mehr dazu in {ref}`forloops-2`."
   ]
  },
  {
   "cell_type": "markdown",
   "metadata": {},
   "source": [
    "## Übungen"
   ]
  },
  {
   "cell_type": "markdown",
   "metadata": {},
   "source": [
    "### Übung 9.1\n",
    "\n",
    "Kopiere den ersten der beiden *Loops* und lasse ihn bei dir laufen. Spiele mit den Werten rum, um ein Gefühl für *For Loops* zu bekommen: Ergänze die Liste mit weiteren Zahlen, verändere den Namen der Platzhaltervariabel und verändere den Text, der in `print` ausgegeben wird."
   ]
  },
  {
   "cell_type": "code",
   "execution_count": null,
   "metadata": {
    "tags": [
     "remove-cell"
    ]
   },
   "outputs": [],
   "source": [
    "# Musterlösung\n",
    "\n",
    "for platzhalter in [0,1,2,5,10]:\n",
    "    print(\"Iteration\",platzhalter)\n",
    "    \n",
    "for nonsense in [0,1,2,5,10]:\n",
    "    print(\"Iteration\",nonsense)\n",
    "\n",
    "for nonsense in [0,1,2,5,10]:\n",
    "    print(\"wow\",nonsense, \"cool\")"
   ]
  },
  {
   "cell_type": "markdown",
   "metadata": {},
   "source": [
    "% : Erste For-Loop erstellen\n",
    "(for-gruss)=\n",
    "### Übung 9.2\n",
    "\n",
    "Konstruiere eine Liste bestehend aus 3 Namen und nenne diese Liste `namen`. Erstelle danach einen *For Loop*, mit welcher jede Person in der Liste gegrüsst wird. Nutze dafür `print`.\n"
   ]
  },
  {
   "cell_type": "code",
   "execution_count": 7,
   "metadata": {
    "tags": [
     "remove-cell"
    ]
   },
   "outputs": [
    {
     "name": "stdout",
     "output_type": "stream",
     "text": [
      "Ciao  Il Buono\n",
      "Ciao  Il Brutto\n",
      "Ciao  Il Cattivo\n"
     ]
    }
   ],
   "source": [
    "# Musterlösung\n",
    "\n",
    "namen = [\"Il Buono\", \"Il Brutto\", \"Il Cattivo\"]\n",
    "\n",
    "for name in namen:\n",
    "    print(\"Ciao \",name)"
   ]
  },
  {
   "cell_type": "markdown",
   "metadata": {},
   "source": [
    "```python\n",
    "# Der Output könnte etwa so aussehen (ich nutze zur Begrüssung \"Ciao\")\n",
    "\n",
    "Ciao  Il Buono\n",
    "Ciao  Il Brutto\n",
    "Ciao  Il Cattivo\n",
    "```"
   ]
  },
  {
   "cell_type": "markdown",
   "metadata": {},
   "source": [
    "% : For-Loop mit `range()`\n",
    "### Übung 9.3\n",
    "\n",
    "Kopiere den zweiten *For Loop* (der mit `range`) und spiele hier mit den Werten herum. Verändere den *For Loop* so, dass er über die Werte von 0 - 10 iteriert und von -5 bis +5."
   ]
  },
  {
   "cell_type": "code",
   "execution_count": 13,
   "metadata": {
    "tags": [
     "remove-cell"
    ]
   },
   "outputs": [
    {
     "name": "stdout",
     "output_type": "stream",
     "text": [
      "Iteration 0\n",
      "Iteration 1\n",
      "Iteration 2\n",
      "Iteration 3\n",
      "Iteration 4\n",
      "Iteration 5\n",
      "Iteration 6\n",
      "Iteration 7\n",
      "Iteration 8\n",
      "Iteration 9\n",
      "Iteration 10\n",
      "Iteration -5\n",
      "Iteration -4\n",
      "Iteration -3\n",
      "Iteration -2\n",
      "Iteration -1\n",
      "Iteration 0\n",
      "Iteration 1\n",
      "Iteration 2\n",
      "Iteration 3\n",
      "Iteration 4\n",
      "Iteration 5\n"
     ]
    }
   ],
   "source": [
    "# Musterlösung\n",
    "\n",
    "# Iteriert von 0 bis 10\n",
    "for platzhalter in range(11):\n",
    "    print(\"Iteration\",platzhalter)\n",
    "    \n",
    "# Iteriert von -5 bis +5\n",
    "for platzhalter in range(-5,6):\n",
    "    print(\"Iteration\",platzhalter)"
   ]
  },
  {
   "cell_type": "markdown",
   "metadata": {},
   "source": [
    "% : *For Loop* mit Quadieren\n",
    "### Übung 9.4\n",
    "\n",
    "Bis jetzt haben unsere *Loops* nicht viel Arbeiten müssen. Erstelle nun einen *For Loop*, welcher für die Werte -5 bis +5 folgendes ausgibt:\n",
    "\n",
    "```python\n",
    "Das Quadrat von -5 ist 25\n",
    "Das Quadrat von -4 ist 16\n",
    "...\n",
    "```"
   ]
  },
  {
   "cell_type": "code",
   "execution_count": 15,
   "metadata": {
    "tags": [
     "remove-cell"
    ]
   },
   "outputs": [
    {
     "name": "stdout",
     "output_type": "stream",
     "text": [
      "Das Quadrat von -5 ist 25\n",
      "Das Quadrat von -4 ist 16\n",
      "Das Quadrat von -3 ist 9\n",
      "Das Quadrat von -2 ist 4\n",
      "Das Quadrat von -1 ist 1\n",
      "Das Quadrat von 0 ist 0\n",
      "Das Quadrat von 1 ist 1\n",
      "Das Quadrat von 2 ist 4\n",
      "Das Quadrat von 3 ist 9\n",
      "Das Quadrat von 4 ist 16\n",
      "Das Quadrat von 5 ist 25\n"
     ]
    }
   ],
   "source": [
    "# Musterlösung\n",
    "\n",
    "for platzhalter in range(-5,6):\n",
    "    print(\"Das Quadrat von\",platzhalter, \"ist\",platzhalter*platzhalter)"
   ]
  },
  {
   "cell_type": "markdown",
   "metadata": {},
   "source": [
    "% : *For Loop* ohne Platzhaltervariabel\n",
    "### Übung 9.5\n",
    "\n",
    "Bisher haben wir die Platzhaltervariabel immer in unserem *Loop* wiederverwendet. Das müssen wir aber gar nicht, wir können den *For Loop* einfach nutzen um etwas x mal zu wiederholen. Erstellen einen *For Loop* der folgende beiden Sätze 5x wiederholt:\n",
    "\n",
    "```python\n",
    "Who likes to party?\n",
    "We like to party!\n",
    "Who likes to party?\n",
    "....\n",
    "```\n",
    "\n",
    "```{tip}\n",
    ":class: dropdown\n",
    "Nutze dafür zwei verschiedene `print` Befehle auf zwei Zeilen.\n",
    "```\n",
    "\n"
   ]
  },
  {
   "cell_type": "code",
   "execution_count": 16,
   "metadata": {
    "tags": [
     "remove-cell"
    ]
   },
   "outputs": [
    {
     "name": "stdout",
     "output_type": "stream",
     "text": [
      "Who likes to party?\n",
      "We like to party!\n",
      "Who likes to party?\n",
      "We like to party!\n",
      "Who likes to party?\n",
      "We like to party!\n",
      "Who likes to party?\n",
      "We like to party!\n",
      "Who likes to party?\n",
      "We like to party!\n"
     ]
    }
   ],
   "source": [
    "# Musterlösung\n",
    "\n",
    "for i in range(5):\n",
    "    print(\"Who likes to party?\")\n",
    "    print(\"We like to party!\")"
   ]
  }
 ],
 "metadata": {
  "kernelspec": {
   "display_name": "Python 3",
   "language": "python",
   "name": "python3"
  },
  "language_info": {
   "codemirror_mode": {
    "name": "ipython",
    "version": 3
   },
   "file_extension": ".py",
   "mimetype": "text/x-python",
   "name": "python",
   "nbconvert_exporter": "python",
   "pygments_lexer": "ipython3",
   "version": "3.7.8"
  }
 },
 "nbformat": 4,
 "nbformat_minor": 4
}
