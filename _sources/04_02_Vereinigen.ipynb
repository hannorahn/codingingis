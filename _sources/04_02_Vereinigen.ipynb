{
 "cells": [
  {
   "cell_type": "code",
   "execution_count": 31,
   "metadata": {
    "tags": [
     "remove-cell"
    ]
   },
   "outputs": [],
   "source": [
    "%matplotlib inline"
   ]
  },
  {
   "cell_type": "markdown",
   "metadata": {},
   "source": [
    "(chap-waldanteil)=\n",
    "# Aufgabe 15: Vereinigen aller Einzelteile\n",
    "\n",
    "## Theorie\n",
    "\n",
    "Um an diesen Punkt zu kommen habt ihr euch diverse Werkzeuge aneignen müssen (*Functions*, *For Loops*, *GIS*) und habt dazu Übungen gelöst. Die nachstehenden Code Blöcke nutzen Elemente aus diesen Übungen um auf den gleichen Stand zu kommen, mit der ihr im Themenblock \"Datenqualität und Unsicherheiten\" in die Übung gestartet seid. Ihr hattet damals (a) Simulierte Zeckenstich-Daten und (b) einen Layer Waldinformation im Projektgebiet. \n",
    "\n",
    "Kopiere die Code Blöcke in ein frisches Notebook und versuche den Code zu verstehen - sie sollten dir sehr bekannt vorkommen. Schau, ob du gewisse Teile an deine Umgebung anpassen musst.\n",
    "\n",
    "---"
   ]
  },
  {
   "cell_type": "markdown",
   "metadata": {},
   "source": [
    "Lade die benötigten Module (siehe {ref}`chap-modules-import`): "
   ]
  },
  {
   "cell_type": "code",
   "execution_count": 32,
   "metadata": {},
   "outputs": [],
   "source": [
    "# Benötigten Module laden #####################\n",
    "import pandas as pd\n",
    "import geopandas as gpd\n",
    "from matplotlib import pyplot as plt\n",
    "###############################################"
   ]
  },
  {
   "cell_type": "markdown",
   "metadata": {},
   "source": [
    "Definiere die benötigte *Function* (siehe {ref}`ex-offset-function`):"
   ]
  },
  {
   "cell_type": "code",
   "execution_count": 33,
   "metadata": {},
   "outputs": [],
   "source": [
    "# Notwendige Functions definieren #############\n",
    "def offset_coordinate(old, distance = 100):\n",
    "    import random\n",
    "    new = old + random.normalvariate(0,distance)\n",
    "    return(new)\n",
    "###############################################"
   ]
  },
  {
   "cell_type": "markdown",
   "metadata": {},
   "source": [
    "Importiere die notwendigen Datensätze (siehe {ref}`ex-import-zeckenstiche` und {ref}`ex-import-wald`):"
   ]
  },
  {
   "cell_type": "code",
   "execution_count": 34,
   "metadata": {},
   "outputs": [],
   "source": [
    "# Daten Importieren ###########################\n",
    "zeckenstiche = pd.read_csv(\"zeckenstiche.csv\")\n",
    "wald = gpd.read_file(\"wald.gpkg\")\n",
    "###############################################"
   ]
  },
  {
   "cell_type": "markdown",
   "metadata": {},
   "source": [
    "Simuliere die Zeckenstiche (siehe {ref}`ex-monte-carlo-loop`):"
   ]
  },
  {
   "cell_type": "code",
   "execution_count": 35,
   "metadata": {},
   "outputs": [],
   "source": [
    "# Daten Simulieren ############################\n",
    "monte_carlo = []\n",
    "for i in range(5):\n",
    "    zeckenstiche[\"x_sim\"] = zeckenstiche[\"x\"].apply(offset_coordinate)\n",
    "    zeckenstiche[\"y_sim\"] = zeckenstiche[\"y\"].apply(offset_coordinate)\n",
    "    zeckenstiche[\"Run\"] = i\n",
    "    monte_carlo.append(zeckenstiche.copy())\n",
    "    \n",
    "monte_carlo_df = pd.concat(monte_carlo)\n",
    "###############################################"
   ]
  },
  {
   "cell_type": "markdown",
   "metadata": {},
   "source": [
    "## Übungen\n",
    "\n",
    "Wir wollen nun den Anteil der Zeckenstiche pro \"Simulationsrunde\", sprich pro *Loop* Iteration, ermitteln. Diese ist in `monte_carlo_df` mit `Run` gekennzeichnet. Dafür müssen wir noch folgendes machen:\n",
    "\n",
    "1. Die *DataFrame* `monte_carlo_df` in eine *GeoDataFrame* konvertieren\n",
    "2. Für jeden simulierten Punkt ob er sich im Wald befindet oder nicht\n",
    "3. Der Anteil der Zeckenstiche im Wald *pro Run* ermitteln\n",
    "4. Verteilung dieser berechneten Anteile visualisieren"
   ]
  },
  {
   "cell_type": "markdown",
   "metadata": {},
   "source": [
    "(ex-14-1)=\n",
    "### Übung 15.1 \n",
    "\n",
    "Konvertiere `monte_carlo_df` in eine *GeoDataFrame* und speichere den Output als `monte_carlo_gpd`. Setze dabei auch das Korrekte Koordinatensystem. Schaue dir nochmal {ref}`chap-pythongis` an wenn du dir unsicher bist, wie das geht."
   ]
  },
  {
   "cell_type": "code",
   "execution_count": 36,
   "metadata": {
    "tags": [
     "remove-cell"
    ]
   },
   "outputs": [],
   "source": [
    "# Musterlösung\n",
    "\n",
    "monte_carlo_gpd = gpd.GeoDataFrame(monte_carlo_df,\n",
    "                                    geometry=gpd.points_from_xy(monte_carlo_df['x_sim'], monte_carlo_df['y_sim']),\n",
    "                                    crs = 2056) "
   ]
  },
  {
   "cell_type": "markdown",
   "metadata": {},
   "source": [
    "(ex-14-3)=\n",
    "### Übung 15.2\n",
    "\n",
    "Ermittle für jeden simulierten Punkt, ob er im Wald ist oder nicht und speichere den Output als `monte_carlo_join`. Schaue dir nochmal {ref}`chap-spatialjoin` an wenn du dir unsicher bist, wie das geht. Schau dir anschliessend `monte_carlo_join` an. Sortiere die *GeoDataFrame* nach \"Run\" (`monte_carlo_join.sort_values(\"Run\")`) um anschliessend nach \"ID\" und versuche so, die Daten zu verstehen."
   ]
  },
  {
   "cell_type": "code",
   "execution_count": 37,
   "metadata": {
    "tags": [
     "remove-cell"
    ]
   },
   "outputs": [],
   "source": [
    "# Musterlösung\n",
    "\n",
    "monte_carlo_join = gpd.sjoin(monte_carlo_gpd, wald)"
   ]
  },
  {
   "cell_type": "markdown",
   "metadata": {
    "tags": [
     "remove-cell"
    ]
   },
   "source": [
    "```python\n",
    "# Musterlösung\n",
    "\n",
    "monte_carlo_join.sort_values(\"Run\")\n",
    "monte_carlo_join.sort_values(\"ID\")\n",
    "```"
   ]
  },
  {
   "cell_type": "markdown",
   "metadata": {},
   "source": [
    "(ex-groupby)=\n",
    "### Übung 15.3\n",
    "\n",
    "Nun wollen wir von jeder Iteration (bzw. jedem \"Run\") wissen, wie viele der der Simulierten Punkte sich im Wald und wie viel sich ausserhalb des Waldes befinden. Mit `size` werden Elemente in einer *DataFrame* gezählt, vorher muss man mit `groupby` aber bestimmen was gezählt weren soll. Nachstehender Code zählt zum Beispiel die Anzahl Zeckenstiche pro Run:"
   ]
  },
  {
   "cell_type": "code",
   "execution_count": 38,
   "metadata": {
    "tags": [
     "remove-cell"
    ]
   },
   "outputs": [],
   "source": [
    "# Hier manipuliere ich die Daten um es so aussehen zu lassen, als seien im \n",
    "# Run nummer 4 alle Zeckenstiche im Wald gelandet. Der Code ist für die \n",
    "# Studis nicht ersichtlich.\n",
    "monte_carlo_join.loc[monte_carlo_join.Run == 4,\"Wald_text\"] = \"ja\""
   ]
  },
  {
   "cell_type": "code",
   "execution_count": 39,
   "metadata": {},
   "outputs": [
    {
     "data": {
      "text/plain": [
       "Run\n",
       "0    10\n",
       "1    10\n",
       "2    10\n",
       "3    10\n",
       "4    10\n",
       "dtype: int64"
      ]
     },
     "execution_count": 39,
     "metadata": {},
     "output_type": "execute_result"
    }
   ],
   "source": [
    "monte_carlo_join.groupby([\"Run\"]).size()"
   ]
  },
  {
   "cell_type": "markdown",
   "metadata": {},
   "source": [
    "Wenn wir nach `Run` *und* `Wald_text` gruppieren, erhalten wir die Anzahl Werte jeder Kombination, was die Information ist nach der wir suchen."
   ]
  },
  {
   "cell_type": "code",
   "execution_count": 40,
   "metadata": {},
   "outputs": [
    {
     "data": {
      "text/plain": [
       "Run  Wald_text\n",
       "0    ja            4\n",
       "     nein          6\n",
       "1    ja            5\n",
       "     nein          5\n",
       "2    ja            5\n",
       "     nein          5\n",
       "3    ja            3\n",
       "     nein          7\n",
       "4    ja           10\n",
       "dtype: int64"
      ]
     },
     "execution_count": 40,
     "metadata": {},
     "output_type": "execute_result"
    }
   ],
   "source": [
    "monte_carlo_join.groupby([\"Run\",\"Wald_text\"]).size() "
   ]
  },
  {
   "cell_type": "markdown",
   "metadata": {},
   "source": [
    "### Übung 15.4\n",
    "\n",
    "Das ist schon mal nahe dran an was wir wollen, wir haben nun aber für jede Iteration zwei Zeilen: Eine für \"Ja\" (im Wald) und eine für \"Nein\" (nicht im Wald). Für die kommenden Schritte wäre es aber praktischer, wenn wir pro Iteration eine Zeile hätten die Anzahl (\"Ja\" und \"Nein\") in zwei Spalten. Dies erreichen wir durch den Zusatz `.unstack()`. Führe diesen Befehl bei dir aus und schau dir den Output an.\n"
   ]
  },
  {
   "cell_type": "code",
   "execution_count": 41,
   "metadata": {},
   "outputs": [
    {
     "data": {
      "text/html": [
       "<div>\n",
       "<style scoped>\n",
       "    .dataframe tbody tr th:only-of-type {\n",
       "        vertical-align: middle;\n",
       "    }\n",
       "\n",
       "    .dataframe tbody tr th {\n",
       "        vertical-align: top;\n",
       "    }\n",
       "\n",
       "    .dataframe thead th {\n",
       "        text-align: right;\n",
       "    }\n",
       "</style>\n",
       "<table border=\"1\" class=\"dataframe\">\n",
       "  <thead>\n",
       "    <tr style=\"text-align: right;\">\n",
       "      <th>Wald_text</th>\n",
       "      <th>ja</th>\n",
       "      <th>nein</th>\n",
       "    </tr>\n",
       "    <tr>\n",
       "      <th>Run</th>\n",
       "      <th></th>\n",
       "      <th></th>\n",
       "    </tr>\n",
       "  </thead>\n",
       "  <tbody>\n",
       "    <tr>\n",
       "      <th>0</th>\n",
       "      <td>4.0</td>\n",
       "      <td>6.0</td>\n",
       "    </tr>\n",
       "    <tr>\n",
       "      <th>1</th>\n",
       "      <td>5.0</td>\n",
       "      <td>5.0</td>\n",
       "    </tr>\n",
       "    <tr>\n",
       "      <th>2</th>\n",
       "      <td>5.0</td>\n",
       "      <td>5.0</td>\n",
       "    </tr>\n",
       "    <tr>\n",
       "      <th>3</th>\n",
       "      <td>3.0</td>\n",
       "      <td>7.0</td>\n",
       "    </tr>\n",
       "    <tr>\n",
       "      <th>4</th>\n",
       "      <td>10.0</td>\n",
       "      <td>NaN</td>\n",
       "    </tr>\n",
       "  </tbody>\n",
       "</table>\n",
       "</div>"
      ],
      "text/plain": [
       "Wald_text    ja  nein\n",
       "Run                  \n",
       "0           4.0   6.0\n",
       "1           5.0   5.0\n",
       "2           5.0   5.0\n",
       "3           3.0   7.0\n",
       "4          10.0   NaN"
      ]
     },
     "execution_count": 41,
     "metadata": {},
     "output_type": "execute_result"
    }
   ],
   "source": [
    "monte_carlo_join.groupby([\"Run\",\"Wald_text\"]).size().unstack()"
   ]
  },
  {
   "cell_type": "markdown",
   "metadata": {},
   "source": [
    "### Übung 15.5\n",
    "\n",
    "In meiner Simulation sind im Run Nummer 4 alle Zeckenstiche im Wald gelandet, deshalb steht dort in der Spalte \"Nein\" der Wert `NaN` (\"*not a number*\"). Mit `fill_value` kann `NaN` durch einen anderen Wert ersetzt werden. In unserem Fall ist ein `fill_value` von `0` sinnvoll. Ergänze dies in deinem Code und speichere den Output als `mont_carlo_results`."
   ]
  },
  {
   "cell_type": "code",
   "execution_count": 42,
   "metadata": {},
   "outputs": [
    {
     "data": {
      "text/html": [
       "<div>\n",
       "<style scoped>\n",
       "    .dataframe tbody tr th:only-of-type {\n",
       "        vertical-align: middle;\n",
       "    }\n",
       "\n",
       "    .dataframe tbody tr th {\n",
       "        vertical-align: top;\n",
       "    }\n",
       "\n",
       "    .dataframe thead th {\n",
       "        text-align: right;\n",
       "    }\n",
       "</style>\n",
       "<table border=\"1\" class=\"dataframe\">\n",
       "  <thead>\n",
       "    <tr style=\"text-align: right;\">\n",
       "      <th>Wald_text</th>\n",
       "      <th>ja</th>\n",
       "      <th>nein</th>\n",
       "    </tr>\n",
       "    <tr>\n",
       "      <th>Run</th>\n",
       "      <th></th>\n",
       "      <th></th>\n",
       "    </tr>\n",
       "  </thead>\n",
       "  <tbody>\n",
       "    <tr>\n",
       "      <th>0</th>\n",
       "      <td>4</td>\n",
       "      <td>6</td>\n",
       "    </tr>\n",
       "    <tr>\n",
       "      <th>1</th>\n",
       "      <td>5</td>\n",
       "      <td>5</td>\n",
       "    </tr>\n",
       "    <tr>\n",
       "      <th>2</th>\n",
       "      <td>5</td>\n",
       "      <td>5</td>\n",
       "    </tr>\n",
       "    <tr>\n",
       "      <th>3</th>\n",
       "      <td>3</td>\n",
       "      <td>7</td>\n",
       "    </tr>\n",
       "    <tr>\n",
       "      <th>4</th>\n",
       "      <td>10</td>\n",
       "      <td>0</td>\n",
       "    </tr>\n",
       "  </tbody>\n",
       "</table>\n",
       "</div>"
      ],
      "text/plain": [
       "Wald_text  ja  nein\n",
       "Run                \n",
       "0           4     6\n",
       "1           5     5\n",
       "2           5     5\n",
       "3           3     7\n",
       "4          10     0"
      ]
     },
     "execution_count": 42,
     "metadata": {},
     "output_type": "execute_result"
    }
   ],
   "source": [
    "mont_carlo_results = monte_carlo_join.groupby([\"Run\",\"Wald_text\"]).size().unstack(fill_value = 0)\n",
    "\n",
    "mont_carlo_results"
   ]
  },
  {
   "cell_type": "markdown",
   "metadata": {},
   "source": [
    "### Übung 15.6\n",
    "\n",
    "Wir haben nun die *Anzahl* der Werte pro Kategorie und Interation, aussagekräftiger wäre aber deren *Anteil* (`ja_anteil = ja / (ja+nein)`). Erstelle eine neue Spalte \"ja_anteil\" wo der Anteil der Punkte im Wald enthalten ist.\n",
    "\n",
    "```{tip}\n",
    ":class: dropdown\n",
    "\n",
    "Schau dir {ref}`ex-sel-col` und {ref}`ex-new-col` an wenn du nicht mehr weisst, wie man Spalten selektiert / erstellt. \n",
    "\n",
    "Für Profis: in die gleiche Familie wie `apply` (siehe {ref}`ex-apply`) gehört die Funktion [`assign`](https://pandas.pydata.org/pandas-docs/stable/reference/api/pandas.DataFrame.assign.html). Diese eignet sich wunderbar für die Erstellung von `ja_anteil`, vor allem in Kombination mit einer `lamba`-*function* (siehe {ref}`chap-functions-lambda`). \n",
    "\n",
    "```"
   ]
  },
  {
   "cell_type": "code",
   "execution_count": 43,
   "metadata": {
    "tags": [
     "remove-cell"
    ]
   },
   "outputs": [],
   "source": [
    "# Musterlösung\n",
    "\n",
    "# Variante 1\n",
    "mont_carlo_results[\"ja\"] / (mont_carlo_results[\"ja\"] + mont_carlo_results[\"nein\"])\n",
    "\n",
    "# Variante 2\n",
    "mont_carlo_results = mont_carlo_results.assign(ja_anteil = lambda x: x.ja/(x.ja+x.nein))"
   ]
  },
  {
   "cell_type": "code",
   "execution_count": 746,
   "metadata": {},
   "outputs": [
    {
     "data": {
      "text/html": [
       "<div>\n",
       "<style scoped>\n",
       "    .dataframe tbody tr th:only-of-type {\n",
       "        vertical-align: middle;\n",
       "    }\n",
       "\n",
       "    .dataframe tbody tr th {\n",
       "        vertical-align: top;\n",
       "    }\n",
       "\n",
       "    .dataframe thead th {\n",
       "        text-align: right;\n",
       "    }\n",
       "</style>\n",
       "<table border=\"1\" class=\"dataframe\">\n",
       "  <thead>\n",
       "    <tr style=\"text-align: right;\">\n",
       "      <th>Wald_text</th>\n",
       "      <th>ja</th>\n",
       "      <th>nein</th>\n",
       "      <th>ja_anteil</th>\n",
       "    </tr>\n",
       "    <tr>\n",
       "      <th>Run</th>\n",
       "      <th></th>\n",
       "      <th></th>\n",
       "      <th></th>\n",
       "    </tr>\n",
       "  </thead>\n",
       "  <tbody>\n",
       "    <tr>\n",
       "      <th>0</th>\n",
       "      <td>6</td>\n",
       "      <td>4</td>\n",
       "      <td>0.6</td>\n",
       "    </tr>\n",
       "    <tr>\n",
       "      <th>1</th>\n",
       "      <td>1</td>\n",
       "      <td>9</td>\n",
       "      <td>0.1</td>\n",
       "    </tr>\n",
       "    <tr>\n",
       "      <th>2</th>\n",
       "      <td>3</td>\n",
       "      <td>7</td>\n",
       "      <td>0.3</td>\n",
       "    </tr>\n",
       "    <tr>\n",
       "      <th>3</th>\n",
       "      <td>5</td>\n",
       "      <td>5</td>\n",
       "      <td>0.5</td>\n",
       "    </tr>\n",
       "    <tr>\n",
       "      <th>4</th>\n",
       "      <td>10</td>\n",
       "      <td>0</td>\n",
       "      <td>1.0</td>\n",
       "    </tr>\n",
       "  </tbody>\n",
       "</table>\n",
       "</div>"
      ],
      "text/plain": [
       "Wald_text  ja  nein  ja_anteil\n",
       "Run                           \n",
       "0           6     4        0.6\n",
       "1           1     9        0.1\n",
       "2           3     7        0.3\n",
       "3           5     5        0.5\n",
       "4          10     0        1.0"
      ]
     },
     "execution_count": 746,
     "metadata": {},
     "output_type": "execute_result"
    }
   ],
   "source": [
    "# Das Resultat sollte folgendermassen aussehen:\n",
    "mont_carlo_results"
   ]
  },
  {
   "cell_type": "markdown",
   "metadata": {},
   "source": [
    "%: Mittelwerte Visualisieren\n",
    "### Übung 15.7\n",
    "\n",
    "Gratuliere! Wenn du an diesem Punkt angekommen bist hast du eine ganze Monte Carlo Simulation von A bis Z mit Python durchgeführt. Von hier an steht dir der Weg frei für noch komplexere Analysen. Zum Abschluss kannst du die Mittelwerte wir nun auf einfache Weise visualisieren. Versuche dabei die Methods `plot()` und `boxplot()`."
   ]
  },
  {
   "cell_type": "code",
   "execution_count": 799,
   "metadata": {
    "tags": [
     "remove-cell"
    ]
   },
   "outputs": [
    {
     "data": {
      "text/plain": [
       "<AxesSubplot:xlabel='Run'>"
      ]
     },
     "execution_count": 799,
     "metadata": {},
     "output_type": "execute_result"
    },
    {
     "data": {
      "image/png": "[encoded data removed]",
      "text/plain": [
       "<Figure size 432x288 with 1 Axes>"
      ]
     },
     "metadata": {
      "needs_background": "light"
     },
     "output_type": "display_data"
    }
   ],
   "source": [
    "# Musterlösung\n",
    "\n",
    "mont_carlo_results.plot(y = \"ja_anteil\")"
   ]
  },
  {
   "cell_type": "code",
   "execution_count": 803,
   "metadata": {
    "tags": [
     "remove-cell"
    ]
   },
   "outputs": [
    {
     "data": {
      "text/plain": [
       "<AxesSubplot:>"
      ]
     },
     "execution_count": 803,
     "metadata": {},
     "output_type": "execute_result"
    },
    {
     "data": {
      "image/png": "[encoded data removed]",
      "text/plain": [
       "<Figure size 432x288 with 1 Axes>"
      ]
     },
     "metadata": {
      "needs_background": "light"
     },
     "output_type": "display_data"
    }
   ],
   "source": [
    "# Musterlösung\n",
    "\n",
    "mont_carlo_results.boxplot(\"ja_anteil\", patch_artist=True)"
   ]
  }
 ],
 "metadata": {
  "kernelspec": {
   "display_name": "Python 3",
   "language": "python",
   "name": "python3"
  },
  "language_info": {
   "codemirror_mode": {
    "name": "ipython",
    "version": 3
   },
   "file_extension": ".py",
   "mimetype": "text/x-python",
   "name": "python",
   "nbconvert_exporter": "python",
   "pygments_lexer": "ipython3",
   "version": "3.7.8"
  }
 },
 "nbformat": 4,
 "nbformat_minor": 4
}
