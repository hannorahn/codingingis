{
 "cells": [
  {
   "cell_type": "markdown",
   "metadata": {},
   "source": [
    "(forloops-2)=\n",
    "# Aufgabe 10: *for loop* Basics\n",
    "\n",
    "## Theorie\n",
    "\n",
    "Bis jetzt haben wir lediglich Sachen in die Konsole herausgeben lassen, doch wie schon bei Functions ist der Zweck einer *for loop* meist, dass nach Durchführung etwas davon zurückbleibt. Aber `return()` gibt es wie bereits erwähnt bei *for loops* nicht. Nehmen wir folgendes Beispiel:"
   ]
  },
  {
   "cell_type": "code",
   "execution_count": 1,
   "metadata": {},
   "outputs": [
    {
     "name": "stdout",
     "output_type": "stream",
     "text": [
      "I'm a bitch\n",
      "I'm a lover\n",
      "I'm a child\n",
      "I'm a mother\n",
      "I'm a sinner\n",
      "I'm a saint\n",
      "I do not feel ashamed\n"
     ]
    }
   ],
   "source": [
    "for rolle in [\"bitch\",\"lover\",\"child\",\"mother\",\"sinner\",\"saint\"]:\n",
    "    liedzeile = \"I'm a \"+ rolle \n",
    "    print(liedzeile)"
   ]
  },
  {
   "cell_type": "markdown",
   "metadata": {},
   "source": [
    "Der Output von dieser For-Loop sind zwar sechs Liederzeilen, wenn wir die Variabel `liedzeile` aber jetzt anschauen ist dort nur das Resultat aus der letzten Durchführung gespeichert. Das gleiche gilt auch für die Variabel `rolle`."
   ]
  },
  {
   "cell_type": "code",
   "execution_count": 8,
   "metadata": {},
   "outputs": [
    {
     "data": {
      "text/plain": [
       "\"I'm a saint\""
      ]
     },
     "execution_count": 8,
     "metadata": {},
     "output_type": "execute_result"
    }
   ],
   "source": [
    "liedzeile"
   ]
  },
  {
   "cell_type": "code",
   "execution_count": 9,
   "metadata": {},
   "outputs": [
    {
     "data": {
      "text/plain": [
       "'saint'"
      ]
     },
     "execution_count": 9,
     "metadata": {},
     "output_type": "execute_result"
    }
   ],
   "source": [
    "rolle"
   ]
  },
  {
   "cell_type": "markdown",
   "metadata": {},
   "source": [
    "Das verrät uns etwas über die Funktionsweise des *for loops*: Bei jedem Durchgang werden die Variablen immer wieder überschrieben. Wenn wir also den Output des ganzen For-Loops abspeichern wollen, müssen wir dies etwas vorbereiten.\n",
    "\n",
    "Dafür erstellen wir unmittelbar for dem *for loops* einen leeren Behälter, zum Beispiel eine leere Liste:"
   ]
  },
  {
   "cell_type": "code",
   "execution_count": 1,
   "metadata": {},
   "outputs": [],
   "source": [
    "refrain = []"
   ]
  },
  {
   "cell_type": "markdown",
   "metadata": {},
   "source": [
    "Nun können wir innerhalb des *Loops* `append()` nutzen, um den Output von einem Durchgang dieser Liste hinzuzufügen."
   ]
  },
  {
   "cell_type": "code",
   "execution_count": 2,
   "metadata": {},
   "outputs": [],
   "source": [
    "for rolle in [\"bitch\",\"lover\",\"child\",\"mother\",\"sinner\",\"saint\"]:\n",
    "    liedzeile = \"I'm a \"+ rolle \n",
    "    refrain.append(liedzeile)"
   ]
  },
  {
   "cell_type": "code",
   "execution_count": null,
   "metadata": {},
   "outputs": [],
   "source": [
    "In unserer Liste `refrain` ist nun der Wert *jeder* Iteration gespeichert."
   ]
  },
  {
   "cell_type": "code",
   "execution_count": 2,
   "metadata": {},
   "outputs": [
    {
     "data": {
      "text/plain": [
       "[\"I'm a bitch\",\n",
       " \"I'm a lover\",\n",
       " \"I'm a child\",\n",
       " \"I'm a mother\",\n",
       " \"I'm a sinner\",\n",
       " \"I'm a saint\"]"
      ]
     },
     "execution_count": 2,
     "metadata": {},
     "output_type": "execute_result"
    }
   ],
   "source": [
    "refrain"
   ]
  },
  {
   "cell_type": "markdown",
   "metadata": {},
   "source": [
    "## Übungen\n",
    "\n",
    "% : Grüsse speichern\n",
    "### Übung 10.1\n",
    "\n",
    "Nehmen wir nochmals das Beispiel aus {ref}`for-gruss`. Erstelle nochmal ein Loop, wo drei Personen aus einer Liste gegrüsst werden. Diesmal sollen aber die drei Grüsse in einer Liste (z.B. `mylist`) gespeichert werden."
   ]
  },
  {
   "cell_type": "code",
   "execution_count": 6,
   "metadata": {
    "tags": [
     "remove-cell"
    ]
   },
   "outputs": [],
   "source": [
    "# Musterlösung\n",
    "\n",
    "mylist = []\n",
    "\n",
    "for name in [\"Il Buono\", \"Il Brutto\", \"Il Cattivo\"]:\n",
    "    mylist.append(\"Ciao \"+name)"
   ]
  },
  {
   "cell_type": "code",
   "execution_count": 8,
   "metadata": {},
   "outputs": [
    {
     "data": {
      "text/plain": [
       "['Ciao Il Buono', 'Ciao Il Brutto', 'Ciao Il Cattivo']"
      ]
     },
     "execution_count": 8,
     "metadata": {},
     "output_type": "execute_result"
    }
   ],
   "source": [
    "# Das Resultat sieht dann so aus:\n",
    "mylist"
   ]
  },
  {
   "cell_type": "markdown",
   "metadata": {},
   "source": [
    "% : Ganze Strophe speichern\n",
    "(ex-loopoutput)=\n",
    "### Übung 10.2\n",
    "    \n",
    "Der im Beispiel verwendete Refrain aus [dem Lied \"Bitch\" von Meredith Brooks](https://www.metrolyrics.com/bitch-lyrics-meredith-brooks.html) besteht bis auf zwei Zeilen aus Wiederholungen. Versuche mit zwei verschiedenen *for loops* den ganzen Refrain in einer Liste zu speichern. Die beiden Teile die vom Muster Abweichen (\"*I do not feel ashamed*\" und \"*You know you wouldn't want it any other way*\") kannst du auch ausserhalb der Loops in die Listen einfügen (`append`)."
   ]
  },
  {
   "cell_type": "code",
   "execution_count": 9,
   "metadata": {
    "tags": [
     "remove-cell"
    ]
   },
   "outputs": [],
   "source": [
    "# Musterlösung\n",
    "\n",
    "refrain = []\n",
    "\n",
    "for rolle in [\"bitch\",\"lover\",\"child\",\"mother\",\"sinner\",\"saint\"]:\n",
    "    liedzeile = \"I'm a \"+ rolle \n",
    "    refrain.append(liedzeile)\n",
    "refrain.append(\"I do not feel ashamed\")\n",
    "for rolle in [\"your hell\",\"your dream\",\"nothing in between\"]:\n",
    "    liedzeile = \"I'm \"+ rolle \n",
    "    refrain.append(liedzeile)\n",
    "refrain.append(\"You know you wouldn't want it any other way\") "
   ]
  },
  {
   "cell_type": "code",
   "execution_count": null,
   "metadata": {},
   "outputs": [],
   "source": [
    "# Das Resultat sieht dann so aus:\n",
    "refrain"
   ]
  }
 ],
 "metadata": {
  "kernelspec": {
   "display_name": "Python 3",
   "language": "python",
   "name": "python3"
  },
  "language_info": {
   "codemirror_mode": {
    "name": "ipython",
    "version": 3
   },
   "file_extension": ".py",
   "mimetype": "text/x-python",
   "name": "python",
   "nbconvert_exporter": "python",
   "pygments_lexer": "ipython3",
   "version": "3.7.8"
  }
 },
 "nbformat": 4,
 "nbformat_minor": 4
}
