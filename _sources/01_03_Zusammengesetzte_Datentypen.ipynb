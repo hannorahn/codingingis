{
 "cells": [
  {
   "cell_type": "markdown",
   "metadata": {},
   "source": [
    "# Komplexe Datentypen\n",
    "\n",
    "Im letzten Kapitel haben wir primitive Datentypen angeschaut. Diese stellen eine gute Basis dar, in der Praxis haben wir aber meistens nicht *einen* Temperaturwert, sondern eine Liste von Temperaturwerten. Wir haben nicht *einen* Vornamen sondern eine Tabelle mit Vor- und Nachnamen. Dafür gibt es in Python komplexere Datenstrukturen die als Gefässe für primitive Datentypen betrachtet werden können.  Auch hier finden wir viele Ähnlichkeiten mit R:\n"
   ]
  },
  {
   "cell_type": "markdown",
   "metadata": {},
   "source": [
    "````{list-table}\n",
    ":header-rows: 1\n",
    "\n",
    "* - Python\n",
    "  - R\n",
    "  - Beschreibung\n",
    "  - Beispiel\n",
    "* - List\n",
    "  - (Vector)\n",
    "  - werden über die Position abgerufen\n",
    "  - ```python\n",
    "    hexerei = [3,2,1]\n",
    "    ```\n",
    "* - Dict\n",
    "  - List\n",
    "  - werden über ein Schlüsselwort abgerufen\n",
    "  - ```python\n",
    "    langenscheidt = {\"trump\":\"erdichten\"}\n",
    "    ```\n",
    "* - DataFrame\n",
    "  - Dataframe\n",
    "  - Tabellarische Daten\n",
    "  - ```python\n",
    "    pd.DataFrame(langenscheidt)\n",
    "    ```\n",
    "````"
   ]
  },
  {
   "cell_type": "markdown",
   "metadata": {},
   "source": [
    "In Python gibt es noch weitere komplexe Datentypen wie *Tuples* und *Sets*. Diese spielen in unserem Kurs aber eine untergeordnete Rolle. Ich erwähne an dieser Stelle zwei häufig genannte Typen, damit ihr sie schon mal gehört habt:\n",
    "\n",
    "- *Tuples*: \n",
    "  - sind ähnlich wie *Lists*, nur können sie nachträglich nicht verändert werden. Das heisst, es ist nach der Erstellung keine Ergänzung von neuen Werten oder Löschung von bestehenden Werten möglich. \n",
    "  - sie werden mit runden Klammern erstellt: `mytuple = (2,2,1)`\n",
    "- *Sets*\n",
    "  - sind ähnlich wie *Dicts*, verfügen aber nicht über `keys` und `values`\n",
    "  - jeder Wert wird nur 1x gespeichert (Duplikate werden automatisch entfernt)\n",
    "  - sie werden mit geschweiften Klammern erstellt: `myset = {3,2,2}`"
   ]
  }
 ],
 "metadata": {
  "kernelspec": {
   "display_name": "Python 3",
   "language": "python",
   "name": "python3"
  },
  "language_info": {
   "codemirror_mode": {
    "name": "ipython",
    "version": 3
   },
   "file_extension": ".py",
   "mimetype": "text/x-python",
   "name": "python",
   "nbconvert_exporter": "python",
   "pygments_lexer": "ipython3",
   "version": "3.7.8"
  }
 },
 "nbformat": 4,
 "nbformat_minor": 4
}
