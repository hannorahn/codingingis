{
 "cells": [
  {
   "cell_type": "code",
   "execution_count": 86,
   "metadata": {},
   "outputs": [],
   "source": [
    "import pandas as pd\n",
    "import random\n",
    "import geopandas as gpd\n",
    "\n",
    "def offset_coordinate(old, distance = 100):\n",
    "    new = old + random.normalvariate(0,distance)\n",
    "    return(new)\n",
    "\n",
    "zeckenstiche = pd.read_csv(\"zeckenstiche_full.csv\")\n",
    "wald = gpd.read_file(\"wald.gpkg\")\n"
   ]
  },
  {
   "cell_type": "code",
   "execution_count": 166,
   "metadata": {},
   "outputs": [],
   "source": [
    "\n",
    "ja_anteile_dict = {}\n",
    "for radius in [10,500,10000]:\n",
    "    ja_anteile = []\n",
    "    for i in range(1,50):\n",
    "        zeckenstiche[\"x_sim\"] = zeckenstiche[\"x\"].apply(offset_coordinate)\n",
    "        zeckenstiche[\"y_sim\"] = zeckenstiche[\"y\"].apply(offset_coordinate)\n",
    "        zeckenstiche[\"geometry\"] = gpd.points_from_xy(zeckenstiche.x_sim, zeckenstiche.y_sim, crs=2056)\n",
    "        zeckenstiche = gpd.GeoDataFrame(zeckenstiche)\n",
    "        zeckenstiche_join = gpd.sjoin(zeckenstiche,wald)\n",
    "        freq = zeckenstiche_join[\"Wald_text\"].value_counts(normalize = True)\n",
    "        ja_anteil = freq.filter(like = \"ja\")[0]\n",
    "        ja_anteile.append(ja_anteil)\n",
    "    ja_anteile_dict[radius] = ja_anteile   \n",
    "    \n",
    "    \n"
   ]
  },
  {
   "cell_type": "code",
   "execution_count": 160,
   "metadata": {},
   "outputs": [],
   "source": [
    "from matplotlib import pyplot as plt"
   ]
  },
  {
   "cell_type": "code",
   "execution_count": 167,
   "metadata": {},
   "outputs": [
    {
     "data": {
      "image/png": "[encoded data removed]",
      "text/plain": [
       "<Figure size 432x288 with 3 Axes>"
      ]
     },
     "metadata": {
      "needs_background": "light"
     },
     "output_type": "display_data"
    }
   ],
   "source": [
    "f, (ax1, ax2, ax3) = plt.subplots(1, 3, sharey=True)\n",
    "\n",
    "ax1.boxplot(ja_anteile_dict[10],labels=[\"Radius: 10 m\"])\n",
    "ax2.boxplot(ja_anteile_dict[500],labels=[\"Radius: 500 m\"])\n",
    "ax3.boxplot(ja_anteile_dict[10000],labels=[\"Radius: 10'000 m\"])\n",
    "f.suptitle(\"Anteil der Zeckenstiche im Wald bei verschieden Radien\\n(jeweils 50 Simulation)\")\n",
    "\n",
    "\n",
    "plt.savefig(\"Waldanteil_nach_Radius\",bbox_inches=\"tight\", pad_inches = 1)"
   ]
  }
 ],
 "metadata": {
  "kernelspec": {
   "display_name": "Python 3",
   "language": "python",
   "name": "python3"
  },
  "language_info": {
   "codemirror_mode": {
    "name": "ipython",
    "version": 3
   },
   "file_extension": ".py",
   "mimetype": "text/x-python",
   "name": "python",
   "nbconvert_exporter": "python",
   "pygments_lexer": "ipython3",
   "version": "3.7.8"
  }
 },
 "nbformat": 4,
 "nbformat_minor": 4
}
