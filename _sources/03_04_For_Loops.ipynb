{
 "cells": [
  {
   "cell_type": "markdown",
   "metadata": {},
   "source": [
    "(forloops-3)=\n",
    "# Aufgabe 11: *for loops* Advanced\n",
    "\n",
    "## Theorie\n",
    "\n",
    "In diesem Kapitel kommen noch zwei Aspekte von *for loops*, die als \"*Advanced*\" eingestuft werden können aber in der Praxis sehr nützlich sind. Dabei geht es einerseits um verschachtelte *for loops* und zum andere um eine verkürzte Schreibweise von *for loops*. \n",
    "\n",
    "### Verschachtelte *for loops*\n",
    "\n",

    "Wir können verschiedene *for loops* auch ineinander verschachteln (englisch: *nested loops*). Das ist vor allem dann nützlich, wenn alle Kombinationen aus zwei Datensätzen miteinander verrechnet werden müssen. Angenommen du willst die drei Mitglieder deiner Band (bestehend aus *Il Buono*, *Il Brutto*, *Il Cattivo*) deinen Eltern vorstellen und auch umgekehrt deine Eltern deiner Band vorstellen. Für so was eignen sich zwei verschachtelte *for Loops* hervorragend:\n",
    "\n",
    "```{tip}\n",
    ":class: dropdown\n",
    "Als Platzhaltervariabel nutze ich wenn immer möglich das Singulär und für den Iterator das Plural von dem Objekt, über das ich iteriere. `for bandmitglied in band`, `for vogel in vögel` usw, dies hilft mir den Überblick im *loop* zu bewahren.\n",
    "```"
   ]
  },
  {
   "cell_type": "code",
   "execution_count": 30,
   "metadata": {},
   "outputs": [
    {
     "name": "stdout",
     "output_type": "stream",
     "text": [
      "Papa das ist Il Buono\n",
      "Il Buono das ist Papa\n",
      "---\n",
      "Mama das ist Il Buono\n",
      "Il Buono das ist Mama\n",
      "---\n",
      "Papa das ist Il Brutto\n",
      "Il Brutto das ist Papa\n",
      "---\n",
      "Mama das ist Il Brutto\n",
      "Il Brutto das ist Mama\n",
      "---\n",
      "Papa das ist Il Cattivo\n",
      "Il Cattivo das ist Papa\n",
      "---\n",
      "Mama das ist Il Cattivo\n",
      "Il Cattivo das ist Mama\n",
      "---\n"
     ]
    }
   ],
   "source": [
    "eltern = [\"Papa\", \"Mama\"]\n",
    "band = [\"Il Buono\", \"Il Brutto\", \"Il Cattivo\"]\n",
    "\n",
    "for bandmitglied in band:\n",
    "    for elternteil in eltern:\n",
    "        print(elternteil, \"das ist\",bandmitglied)\n",
    "        print(bandmitglied, \"das ist\",elternteil)\n",
    "        print(\"---\")"
   ]
  },
  {
   "cell_type": "markdown",
   "metadata": {
    "tags": [
     "remove-cell"
    ]
   },
   "source": [
    "DIESER TEIL IST ENTFERNT, TOO MUCH INFORMATION \n",
    "\n",
    "Ein anderes Beispiel:  Der Abschluss vom Lied \"Bitch\" (Meredith Brooks) geht folgendermassen:\n",
    "\n",
    "```\n",
    "Uuhh, uuhh, uuhh\n",
    "Uuhh, uuhh, uuhh\n",
    "Uuhh, uuhh, uuhh\n",
    "Uuhh, uuhh, uuhh\n",
    "```\n",
    "\n",
    "Das sind also 3 *Uuhh*'s pro Zeile, und dies 4 mal wiederholt. Um dies in einem verschachtelten *for loop* abzubilden müssen wir etwas kreativ sein.\n",
    "\n",
    "```python\n",
    "# der äussere Loop ist verantwortlich für die vier Zeilen\n",
    "for i in range(4):\n",
    "    \n",
    "    zeile = []\n",
    "    for j in range(3):\n",
    "        zeile.append(\"Uuhh\")\n",
    "    print(zeile)\n",
    "```"
   ]
  },
  {
   "cell_type": "markdown",
   "metadata": {},
   "source": [
    "### Verkürzte Schreibweise\n",
    "\n",
    "Es ist äusserst häufig der Fall, dass wir den Output aus einem Loop in einer Liste abspeichern wollen. Wie das geht haben wir ja bereits in {ref}`forloops-2` gelernt:"
   ]
  },
  {
   "cell_type": "code",
   "execution_count": 20,
   "metadata": {},
   "outputs": [],
   "source": [
    "rollen = [\"bitch\",\"lover\",\"child\",\"mother\",\"sinner\",\"saint\"]\n",
    "\n",
    "refrain = []\n",
    "for rolle in rollen:\n",
    "    liedzeile = \"I'm a \"+ rolle \n",
    "    refrain.append(liedzeile)"
   ]
  },
  {
   "cell_type": "markdown",
   "metadata": {},
   "source": [
    "Nur ist das ein *bisschen* umständlich, weil wir dafür viele Zeilen Code brauchen, um etwas eigentlich ganz simples zu bewerkstelligen. Es gibt deshalb dafür auch eine verkürzte Schreibweise, welche ich in der letzten Woche bereits einmal verwendet habe (siehe {ref}`offset-vis`). Der obige Loop hat in der verkürzten Schreibweise die folgende Form:"
   ]
  },
  {
   "cell_type": "code",
   "execution_count": 19,
   "metadata": {},
   "outputs": [],
   "source": [
    "refrain = [\"I'm a \"+ rolle for rolle in rollen]"
   ]
  },
  {
   "cell_type": "markdown",
   "metadata": {},
   "source": [
    "Diese verkürzte Schreibweise heisst in Python *list comprehension* und sie ist äusserst praktisch, wenn man sie beherrscht. Das Beherrschen ist aber nicht zentral, es reicht schon wenn ihr eine solche Schreibweise wieder erkennt und richtig interpretieren könnt (im Sinne von \"*Aha, hier wird also in einem Loop eine Liste erstellt*\"). In der folgenden Darstellung seht ihr farblich, welche Elemente sich in der verkürzten Schreibweise wo wiederfinden und welche Elemente gar nicht wiederverwendet werden."
   ]
  },
  {
   "cell_type": "markdown",
   "metadata": {},
   "source": [
    "![list](list_comprehension.jpg)"
   ]
  },
  {
   "cell_type": "markdown",
   "metadata": {},
   "source": [
    "## Übungen"
   ]
  },
  {
   "cell_type": "markdown",
   "metadata": {},
   "source": [
    "% : Nested Loop: Bellen und Fauchen\n",
    "### Übung 11.1\n",
    "\n",
    "Erstelle zwei Listen bestehend aus 3 Hundenamen (`hunde`) und 3 Katzennamen (`katzen`). Erstelle einen verschachtelten *For Loop*, wo jeder Hund jede Katze anbellt und jede Katze jeden Hund anfaucht.\n",

    "\n",
    "```python\n",
    "Bruno bellt Greta an\n",
    "Greta faucht Bruno an\n",
    "Berta bellt Greta an\n",
    "....\n",
    "```"
   ]
  },
  {
   "cell_type": "code",
   "execution_count": 35,
   "metadata": {
    "tags": [
     "remove-cell"
    ]
   },
   "outputs": [
    {
     "name": "stdout",
     "output_type": "stream",
     "text": [
      "Bruno bellt Greta an\n",
      "Greta faucht Bruno an\n",
      "Berta bellt Greta an\n",
      "Greta faucht Berta an\n",
      "Helmi bellt Greta an\n",
      "Greta faucht Helmi an\n",
      "Bruno bellt Xavier an\n",
      "Xavier faucht Bruno an\n",
      "Berta bellt Xavier an\n",
      "Xavier faucht Berta an\n",
      "Helmi bellt Xavier an\n",
      "Xavier faucht Helmi an\n",
      "Bruno bellt Zachy an\n",
      "Zachy faucht Bruno an\n",
      "Berta bellt Zachy an\n",
      "Zachy faucht Berta an\n",
      "Helmi bellt Zachy an\n",
      "Zachy faucht Helmi an\n"
     ]
    }
   ],
   "source": [
    "# Musterlösung\n",
    "\n",
    "hunde = [\"Bruno\", \"Berta\",\"Helmi\"]\n",
    "katzen = [\"Greta\", \"Xavier\", \"Zachy\"]\n",
    "\n",
    "for katze in katzen:\n",
    "    for hund in hunde:\n",
    "        print(hund, \"bellt\", katze, \"an\")\n",
    "        print(katze, \"faucht\", hund,\"an\")"
   ]
  },
  {
   "cell_type": "markdown",
   "metadata": {},
   "source": [
    "% Nested Loop: Multiplikation\n",
    "### Übung 11.2\n",
    "\n",
    "Erstelle einen verschachtelten Loop, wo alle Kombinationen von 0 bis 9 miteinander addiert werden."
   ]
  },
  {
   "cell_type": "code",
   "execution_count": 54,
   "metadata": {
    "tags": [
     "remove-cell"
    ]
   },
   "outputs": [],
   "source": [
    "# Musterlösung\n",
    "\n",
    "addition = []\n",
    "werte = range(10)\n",
    "for i in werte:\n",
    "    for j in werte:\n",
    "        resultat = i+j\n",
    "        addition.append(resultat)"
   ]
  }
 ],
 "metadata": {
  "kernelspec": {
   "display_name": "Python 3",
   "language": "python",
   "name": "python3"
  },
  "language_info": {
   "codemirror_mode": {
    "name": "ipython",
    "version": 3
   },
   "file_extension": ".py",
   "mimetype": "text/x-python",
   "name": "python",
   "nbconvert_exporter": "python",
   "pygments_lexer": "ipython3",
   "version": "3.7.8"
  }
 },
 "nbformat": 4,
 "nbformat_minor": 4
}
