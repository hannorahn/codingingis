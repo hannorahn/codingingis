{
 "cells": [
  {
   "cell_type": "markdown",
   "metadata": {},
   "source": [
    "# Einleitung\n",
    "\n",
    "Im Leistungsnachweis von *Coding in GIS* werden wir die Übungen 2 und 3 aus \"*Datenqualität und Unsicherheit*\" nochmals durchführen. Dieses mal werdet ihr die Daten aber selbst simulieren, und das ganze natürlich in Python umsetzen. \n",
    "\n",
    "In der Übung geht es um folgendes: Wir wissen das die Lagegenauigkeit der Zeckenstichmeldungen mit einer gewissen Unsicherheit behaftet ist. Um diese Unsicherheit bei  der Frage \"*Welcher Anteil der der Zeckenstiche befindet sich im Wald?*\" zu berücksichtigen, führen wir eine *Monte Carlo Simulation* durch. In diesem Ansatz simulieren wir Zeckenstichmeldungen durch zufälliges Verschieben ihrer Koordinaten. Für jede Iteration der Verschiebung (\"*Run*\") berechnen wir den Anteil der Meldungen *im Wald*. Die Verteilung dieser Werte beantwortet die Frage (\"*Welcher Anteil der der Zeckenstiche befinden sich im Wald?*\") unter Berücksichtigung der Unsicherheit.\n",
    "\n",
    "\n",
    "```{figure} figures/sim-workflow.jpg\n",
    "---\n",
    "name: fig-sim-workflow\n",
    "---\n",
    "Der generelle Workflow userer Monte Carlo Simulation\n",
    "```\n",
    "\n"
   ]
  },
  {
   "cell_type": "markdown",
   "metadata": {},
   "source": [
    "Um diese Komplexe Aufgabe lösen zu können müssen wir sie in Teilaufgaben zerlegen. Wir haben in den drei Blöcken (*Coding in GIS I - III*) darauf hingearbeitet, alle Voraussetzungen zur Lösung dieser Teilaufgaben zu erfüllen. Siehe dazu die nachstehende Tabelle:\n",
    "\n",
    "```{list-table} Teilaufgaben für das Lösen der Monte Carlo Simulation\n",
    ":header-rows: 1\n",
    ":name: monte-carlo-workflow\n",
    "\n",
    "* - Teilaufgabe\n",
    "  - Status\n",
    "  - Voraussetzung\n",
    "* - Einen Einzelpunkt zufällig verschieben\n",
    "  - ✓ haben wir in {ref}`ex-offset-function` gelöst \n",
    "  - {ref}`function-basics` und {ref}`function-advanced`\n",
    "* - Alle Punkte einer DataFrame zufällig verschieben\n",
    "  - ✓ haben wir in {ref}`ex-apply` gelöst\n",
    "  - {ref}`chap-random-numbers` und {ref}`chap-offset-dataframe`\n",
    "* - Wiederholung von Schritt 2 (zum Beispiel 50-mal)\n",
    "  - ✓ haben wir in {ref}`chap-simulation` gelöst\n",
    "  - {ref}`forloops-1` und {ref}`forloops-2`\n",
    "* - Für jeden simulierten Punkt ermitteln, ob er sich im Wald / ausserhalb des Waldes befindet\n",
    "  - ✓ haben wir in {ref}`ex-spatialjoin` gelöst\n",
    "  - {ref}`chap-pythongis`\n",
    "* - Anteil der Punkte im Wald pro Run ermitteln\n",
    "  - werden wir in {ref}`ex-groupby` lösen\n",
    "  - Coding in GIS I - III\n",
    "```"
   ]
  }
 ],
 "metadata": {
  "kernelspec": {
   "display_name": "Python 3",
   "language": "python",
   "name": "python3"
  },
  "language_info": {
   "codemirror_mode": {
    "name": "ipython",
    "version": 3
   },
   "file_extension": ".py",
   "mimetype": "text/x-python",
   "name": "python",
   "nbconvert_exporter": "python",
   "pygments_lexer": "ipython3",
   "version": "3.7.8"
  }
 },
 "nbformat": 4,
 "nbformat_minor": 4
}
