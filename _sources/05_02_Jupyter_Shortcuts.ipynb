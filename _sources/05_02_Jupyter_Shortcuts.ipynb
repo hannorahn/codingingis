{
 "cells": [
  {
   "cell_type": "markdown",
   "metadata": {},
   "source": [
    "# Basic shortcuts for Jupyter lab"
   ]
  },
  {
   "cell_type": "markdown",
   "metadata": {},
   "source": [
    "- **Alt + Enter**: Run current cell\n",
    "- **ESC**: takes users into command mode view while ENTER takes users into cell mode view.\n",
    "- **A**: inserts a cell above the currently selected cell. Before using this, make sure that you are in command mode (by pressing ESC).\n",
    "- **B**: inserts a cell below the currently selected cell. Before using this make sure that you are in command mode (by pressing ESC).\n",
    "- **D + D**: Pressing D two times in a quick succession in command mode deletes the currently selected cell. \n",
    "- **M**: to change current cell to a markdown cell,\n",
    "- **Y**: to change it to a code cell and  R to change it to a raw cell.\n",
    "- **CTRL + B**: Jupyter lab has two columns design. One column is for launcher or code blocks and another column is for file view etc. To increase workspace while writing code, we can close it.  CTRL + B is the shortcut for toggling the file view column in the Jupyter lab.\n",
    "- **SHIFT + MIt**: merges multiple selected cells into one cell. \n",
    "- **CTRL + SHIFT +** –: It splits the current cell into two cells from where your cursor is. \n",
    "- **SHIFT+J or SHIFT + DOWN**: It selects the next cell in a downward direction.  It will help in making multiple selections of cells.\n",
    "- **SHIFT + K or SHIFT + UP**: It selects the next cell in an upwards direction. It will help in making multiple selections of cells.\n",
    "- **CTRL + /**: It helps you in either commenting or uncommenting any line in the Jupyter lab. For this to work, you don’t even need to select the whole line. It will comment or uncomment line where your cursor is. If you want to do it for more that one line then you will need to first select all the line and then use this shortcut. "
   ]
  },
  {
   "cell_type": "code",
   "execution_count": null,
   "metadata": {},
   "outputs": [],
   "source": []
  }
 ],
 "metadata": {
  "kernelspec": {
   "display_name": "Python 3",
   "language": "python",
   "name": "python3"
  },
  "language_info": {
   "codemirror_mode": {
    "name": "ipython",
    "version": 3
   },
   "file_extension": ".py",
   "mimetype": "text/x-python",
   "name": "python",
   "nbconvert_exporter": "python",
   "pygments_lexer": "ipython3",
   "version": "3.7.8"
  }
 },
 "nbformat": 4,
 "nbformat_minor": 4
}
