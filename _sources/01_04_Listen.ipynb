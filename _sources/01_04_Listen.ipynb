{
 "cells": [
  {
   "cell_type": "markdown",
   "metadata": {},
   "source": [
    "# Aufgabe 2: Listen\n",
    "\n",
    "## Theorie\n",
    "\n",
    "Wohl das einfachste Gefäss, um mehrere Werte zu speichern sind Python-Listen, sogenannte *Lists*. Diese *Lists* werden mit eckigen Klammern erstellt. Die Reihenfolge, in denen die Werte angegeben werden, wird gespeichert. Das erlaubt es uns, bestimmte Werte aufgrund ihrer Position abzurufen. \n",
    "\n",
    "Eine *List* wird folgendermassen erstellt:"
   ]
  },
  {
   "cell_type": "code",
   "execution_count": 2,
   "metadata": {},
   "outputs": [],
   "source": [
    "hexerei = [3,1,2]"
   ]
  },
  {
   "cell_type": "markdown",
   "metadata": {},
   "source": [
    "Der erste Wert wird in Python mit `0` (!!!) aufgerufen:"
   ]
  },
  {
   "cell_type": "code",
   "execution_count": 3,
   "metadata": {},
   "outputs": [
    {
     "data": {
      "text/plain": [
       "3"
      ]
     },
     "execution_count": 3,
     "metadata": {},
     "output_type": "execute_result"
    }
   ],
   "source": [
    "hexerei[0]"
   ]
  },
  {
   "cell_type": "code",
   "execution_count": 4,
   "metadata": {},
   "outputs": [
    {
     "data": {
      "text/plain": [
       "list"
      ]
     },
     "execution_count": 4,
     "metadata": {},
     "output_type": "execute_result"
    }
   ],
   "source": [
    "type(hexerei)"
   ]
  },
  {
   "cell_type": "markdown",
   "metadata": {},
   "source": [
    "Im Prinzip sind *Lists* ähnlich wie *Vectors* in R, mit dem Unterschied das in Python-Lists unterschiedliche Datentypen abgespeichert werden können. Zum Beispiel auch weitere, verschachtelte Lists:"
   ]
  },
  {
   "cell_type": "code",
   "execution_count": 5,
   "metadata": {},
   "outputs": [],
   "source": [
    "chaos = [23, \"ja\", [1,2,3]]"
   ]
  },
  {
   "cell_type": "code",
   "execution_count": 6,
   "metadata": {},
   "outputs": [
    {
     "data": {
      "text/plain": [
       "int"
      ]
     },
     "execution_count": 6,
     "metadata": {},
     "output_type": "execute_result"
    }
   ],
   "source": [
    "# Der Inhalt vom ersten Wert ist vom Typ \"Int\"\n",
    "type(chaos[0])"
   ]
  },
  {
   "cell_type": "code",
   "execution_count": 7,
   "metadata": {},
   "outputs": [
    {
     "data": {
      "text/plain": [
       "list"
      ]
     },
     "execution_count": 7,
     "metadata": {},
     "output_type": "execute_result"
    }
   ],
   "source": [
    "# Der Inhalt vom dritten Wert ist vom Typ \"List\"\n",
    "\n",
    "type(chaos[2])"
   ]
  },
  {
   "cell_type": "markdown",
   "metadata": {},
   "source": [
    "## Übungen\n",
    "\n",
    "% : Lists\n",
    "### Übung 2.1\n",
    "\n",
    "1. Erstelle eine Variable `vornamen` bestehend aus einer *List* mit 3 Vornamen\n",
    "2. Erstelle eine zweite Variable `nachnamen` bestehend aus einer *List* mit 3 Nachnamen\n",
    "3. Erstelle eine Variable `groessen` bestehend aus einer *List* mit 3 Grössenangaben in Zentimeter."
   ]
  },
  {
   "cell_type": "code",
   "execution_count": 17,
   "metadata": {
    "tags": [
     "hide-cell"
    ]
   },
   "outputs": [],
   "source": [
    "# Musterlösung\n",
    "\n",
    "vornamen = [\"Christopher\", \"Henning\", \"Severin\"]\n",
    "nachnamen = [\"Annen\",\"May\", \"Kantereit\"]\n",
    "\n",
    "groessen = [174, 182, 162]"
   ]
  },
  {
   "cell_type": "markdown",
   "metadata": {},
   "source": [
    "% : Elemente aus Liste ansprechen\n",
    "### Übung 2.2\n",
    "\n",
    "Wie erhältst du den ersten Eintrag in der Variable `vornamen`? "
   ]
  },
  {
   "cell_type": "code",
   "execution_count": 18,
   "metadata": {
    "tags": [
     "hide-cell"
    ]
   },
   "outputs": [
    {
     "data": {
      "text/plain": [
       "'Christopher'"
      ]
     },
     "execution_count": 18,
     "metadata": {},
     "output_type": "execute_result"
    }
   ],
   "source": [
    "# Musterlösung\n",
    "\n",
    "vornamen[0]"
   ]
  },
  {
   "cell_type": "markdown",
   "metadata": {},
   "source": [
    "% : Liste ergänzen\n",
    "### Übung 2.3\n",
    "\n",
    "Listen können durch die Methode `append` ergänzt werden (s.u.). Ergänze die Listen `vornamen`, `nachnamen` und `groessen` durch je einen Eintrag."
   ]
  },
  {
   "cell_type": "code",
   "execution_count": 19,
   "metadata": {},
   "outputs": [],
   "source": [
    "vornamen.append(\"Malte\")"
   ]
  },
  {
   "cell_type": "code",
   "execution_count": 20,
   "metadata": {
    "tags": [
     "hide-cell"
    ]
   },
   "outputs": [],
   "source": [
    "# Musterlösung\n",
    "\n",
    "nachnamen.append(\"Huck\")\n",
    "\n",
    "groessen.append(177)"
   ]
  },
  {
   "cell_type": "markdown",
   "metadata": {},
   "source": [
    "% : Summen berechnen\n",
    "### Übung 2.4\n",
    "\n",
    "Ermittle die Summe aller Werte in `groesse`. Tip: Nutze dazu `sum()`"
   ]
  },
  {
   "cell_type": "code",
   "execution_count": 28,
   "metadata": {
    "tags": [
     "hide-cell"
    ]
   },
   "outputs": [
    {
     "data": {
      "text/plain": [
       "695"
      ]
     },
     "execution_count": 28,
     "metadata": {},
     "output_type": "execute_result"
    }
   ],
   "source": [
    "# Musterlösung\n",
    "\n",
    "sum(groessen)"
   ]
  },
  {
   "cell_type": "markdown",
   "metadata": {},
   "source": [
    "% : Anzahl Werte ermitteln\n",
    "### Übung 2.5\n",
    "\n",
    "Ermittle die Anzahl Werte in `groesse` . Tip: Nutze dazu `len()`"
   ]
  },
  {
   "cell_type": "code",
   "execution_count": 30,
   "metadata": {
    "tags": [
     "hide-cell"
    ]
   },
   "outputs": [
    {
     "data": {
      "text/plain": [
       "4"
      ]
     },
     "execution_count": 30,
     "metadata": {},
     "output_type": "execute_result"
    }
   ],
   "source": [
    "# Musterlösung\n",
    "\n",
    "len(groessen)"
   ]
  },
  {
   "cell_type": "markdown",
   "metadata": {},
   "source": [
    "% : Mittelwert berechnen\n",
    "(mittelwert)=\n",
    "### Übung 2.6\n",
    "\n",
    "Berechne die durchschnittliche Grösse aller Personen in `groesse`. Tip: Nutze dazu `len()` und `sum()`."
   ]
  },
  {
   "cell_type": "code",
   "execution_count": 34,
   "metadata": {
    "tags": [
     "hide-cell"
    ]
   },
   "outputs": [
    {
     "data": {
      "text/plain": [
       "173.75"
      ]
     },
     "execution_count": 34,
     "metadata": {},
     "output_type": "execute_result"
    }
   ],
   "source": [
    "# Musterlösung\n",
    "\n",
    "sum(groessen)/len(groessen)"
   ]
  },
  {
   "cell_type": "markdown",
   "metadata": {},
   "source": [
    "% : Minimum-/Maximumwerte\n",
    "### Übung 2.7\n",
    "\n",
    "Ermittle nun noch die Minimum- und Maximumwerte aus `grossen` (finde die dazugehörige Funktion selber heraus)."
   ]
  },
  {
   "cell_type": "code",
   "execution_count": 36,
   "metadata": {
    "tags": [
     "hide-cell"
    ]
   },
   "outputs": [
    {
     "data": {
      "text/plain": [
       "182"
      ]
     },
     "execution_count": 36,
     "metadata": {},
     "output_type": "execute_result"
    }
   ],
   "source": [
    "# Musterlösung\n",
    "\n",
    "min(groessen)\n",
    "max(groessen)"
   ]
  }
 ],
 "metadata": {
  "kernelspec": {
   "display_name": "Python 3",
   "language": "python",
   "name": "python3"
  },
  "language_info": {
   "codemirror_mode": {
    "name": "ipython",
    "version": 3
   },
   "file_extension": ".py",
   "mimetype": "text/x-python",
   "name": "python",
   "nbconvert_exporter": "python",
   "pygments_lexer": "ipython3",
   "version": "3.7.8"
  }
 },
 "nbformat": 4,
 "nbformat_minor": 4
}
